{
  "cells": [
    {
      "cell_type": "markdown",
      "metadata": {
        "id": "view-in-github",
        "colab_type": "text"
      },
      "source": [
        "<a href=\"https://colab.research.google.com/github/Dani171120/Daniela_Flutter-To-Do-List/blob/develop/Te_damos_la_bienvenida_a_Colaboratory.ipynb\" target=\"_parent\"><img src=\"https://colab.research.google.com/assets/colab-badge.svg\" alt=\"Open In Colab\"/></a>"
      ]
    },
    {
      "cell_type": "code",
      "source": [
        "import tensorflow as tf\n",
        "from tensorflow.keras.applications import EfficientNetB0\n",
        "from tensorflow.keras.applications.efficientnet import preprocess_input, decode_predictions\n",
        "from tensorflow.keras.preprocessing import image\n",
        "import numpy as np\n",
        "\n",
        "# Cargar el modelo preentrenado EfficientNetB0\n",
        "model = EfficientNetB0(weights='imagenet')\n",
        "\n",
        "# Cargar una imagen de ejemplo\n",
        "img_path = 'RedNeuronal.png'  # Reemplaza 'ejemplo.jpg' con la ruta de tu imagen\n",
        "img = image.load_img(img_path, target_size=(224, 224))\n",
        "x = image.img_to_array(img)\n",
        "x = np.expand_dims(x, axis=0)\n",
        "x = preprocess_input(x)\n",
        "\n",
        "# Realizar predicciones\n",
        "predictions = model.predict(x)\n",
        "\n",
        "# Decodificar las predicciones\n",
        "decoded_predictions = decode_predictions(predictions)\n",
        "\n",
        "# Mostrar las 5 mejores clases predichas\n",
        "for i, (imagenet_id, label, score) in enumerate(decoded_predictions[0]):\n",
        "    print(f\"{i + 1}: {label} ({score:.2f})\")\n"
      ],
      "metadata": {
        "colab": {
          "base_uri": "https://localhost:8080/"
        },
        "id": "9KYr1L7vrIgz",
        "outputId": "48d83c7c-7d49-45fd-df4b-00eca77bff3d"
      },
      "execution_count": 9,
      "outputs": [
        {
          "output_type": "stream",
          "name": "stdout",
          "text": [
            "1/1 [==============================] - 1s 1s/step\n",
            "Downloading data from https://storage.googleapis.com/download.tensorflow.org/data/imagenet_class_index.json\n",
            "35363/35363 [==============================] - 0s 0us/step\n",
            "1: Band_Aid (0.12)\n",
            "2: iPod (0.09)\n",
            "3: microphone (0.06)\n",
            "4: hand_blower (0.05)\n",
            "5: sunscreen (0.04)\n"
          ]
        }
      ]
    }
  ],
  "metadata": {
    "colab": {
      "name": "Te damos la bienvenida a Colaboratory",
      "provenance": [],
      "include_colab_link": true
    },
    "kernelspec": {
      "display_name": "Python 3",
      "name": "python3"
    }
  },
  "nbformat": 4,
  "nbformat_minor": 0
}